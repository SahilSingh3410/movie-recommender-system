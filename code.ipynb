{
 "cells": [
  {
   "cell_type": "code",
   "execution_count": 1,
   "id": "5e461d72",
   "metadata": {},
   "outputs": [],
   "source": [
    "import pandas as pd       #importing libraries\n",
    "import numpy as np"
   ]
  },
  {
   "cell_type": "markdown",
   "id": "e47071d2",
   "metadata": {},
   "source": [
    "# Data pre-processing"
   ]
  },
  {
   "cell_type": "code",
   "execution_count": 2,
   "id": "598cf47d",
   "metadata": {},
   "outputs": [],
   "source": [
    "df = pd.read_csv('movie5.csv')   #reading dataset"
   ]
  },
  {
   "cell_type": "code",
   "execution_count": 3,
   "id": "bfd61bc0",
   "metadata": {},
   "outputs": [
    {
     "data": {
      "text/html": [
       "<div>\n",
       "<style scoped>\n",
       "    .dataframe tbody tr th:only-of-type {\n",
       "        vertical-align: middle;\n",
       "    }\n",
       "\n",
       "    .dataframe tbody tr th {\n",
       "        vertical-align: top;\n",
       "    }\n",
       "\n",
       "    .dataframe thead th {\n",
       "        text-align: right;\n",
       "    }\n",
       "</style>\n",
       "<table border=\"1\" class=\"dataframe\">\n",
       "  <thead>\n",
       "    <tr style=\"text-align: right;\">\n",
       "      <th></th>\n",
       "      <th>title</th>\n",
       "      <th>actor</th>\n",
       "      <th>director</th>\n",
       "      <th>genre</th>\n",
       "      <th>desc</th>\n",
       "      <th>poster</th>\n",
       "      <th>details</th>\n",
       "    </tr>\n",
       "  </thead>\n",
       "  <tbody>\n",
       "    <tr>\n",
       "      <th>0</th>\n",
       "      <td>Selfiee</td>\n",
       "      <td>Akshay Kumar, Nushrratt Bharuccha, Mrunal Thak...</td>\n",
       "      <td>Raj Mehta</td>\n",
       "      <td>Action, Comedy, Drama</td>\n",
       "      <td>Bollywood superstar Vijay Kumar needs to obtai...</td>\n",
       "      <td>https://m.media-amazon.com/images/M/MV5BYTg5Nm...</td>\n",
       "      <td>https://www.imdb.com/title/tt15516726/?ref_=ad...</td>\n",
       "    </tr>\n",
       "    <tr>\n",
       "      <th>1</th>\n",
       "      <td>Pathaan</td>\n",
       "      <td>Shah Rukh Khan, Deepika Padukone, John Abraham...</td>\n",
       "      <td>Siddharth Anand</td>\n",
       "      <td>Action, Adventure, Drama</td>\n",
       "      <td>An Indian spy takes on the leader of a group o...</td>\n",
       "      <td>https://m.media-amazon.com/images/M/MV5BM2QzM2...</td>\n",
       "      <td>https://www.imdb.com/title/tt12844910/?ref_=ad...</td>\n",
       "    </tr>\n",
       "    <tr>\n",
       "      <th>2</th>\n",
       "      <td>Lost</td>\n",
       "      <td>Yami Gautam, Piaa Bajpai, Rohit Basfore, Yoges...</td>\n",
       "      <td>Aniruddha Roy Chowdhury</td>\n",
       "      <td>Drama, Thriller</td>\n",
       "      <td>An emotional thriller that represents a higher...</td>\n",
       "      <td>https://m.media-amazon.com/images/M/MV5BMGU3Yz...</td>\n",
       "      <td>https://www.imdb.com/title/tt15048606/?ref_=ad...</td>\n",
       "    </tr>\n",
       "    <tr>\n",
       "      <th>3</th>\n",
       "      <td>3 Idiots</td>\n",
       "      <td>Aamir Khan, Madhavan, Mona Singh, Kareena Kapoor</td>\n",
       "      <td>Rajkumar Hirani</td>\n",
       "      <td>Comedy, Drama</td>\n",
       "      <td>Two friends are searching for their long lost ...</td>\n",
       "      <td>https://m.media-amazon.com/images/M/MV5BNTkyOG...</td>\n",
       "      <td>https://www.imdb.com/title/tt1187043/?ref_=adv...</td>\n",
       "    </tr>\n",
       "    <tr>\n",
       "      <th>4</th>\n",
       "      <td>Waltair Veerayya</td>\n",
       "      <td>Chiranjeevi, Ravi Teja, Shruti Haasan, Catheri...</td>\n",
       "      <td>K.S. Ravindra</td>\n",
       "      <td>Action, Drama</td>\n",
       "      <td>The story between a fisherman and his friend, ...</td>\n",
       "      <td>https://m.media-amazon.com/images/M/MV5BNTE2Zj...</td>\n",
       "      <td>https://www.imdb.com/title/tt15281402/?ref_=ad...</td>\n",
       "    </tr>\n",
       "    <tr>\n",
       "      <th>...</th>\n",
       "      <td>...</td>\n",
       "      <td>...</td>\n",
       "      <td>...</td>\n",
       "      <td>...</td>\n",
       "      <td>...</td>\n",
       "      <td>...</td>\n",
       "      <td>...</td>\n",
       "    </tr>\n",
       "    <tr>\n",
       "      <th>9445</th>\n",
       "      <td>PK</td>\n",
       "      <td>Aamir Khan, Anushka Sharma, Sanjay Dutt, Boman...</td>\n",
       "      <td>Rajkumar Hirani</td>\n",
       "      <td>Comedy, Drama, Sci-Fi</td>\n",
       "      <td>An alien on Earth loses the only device he can...</td>\n",
       "      <td>https://m.media-amazon.com/images/M/MV5BMTYzOT...</td>\n",
       "      <td>https://www.imdb.com/title/tt2338151/?ref_=adv...</td>\n",
       "    </tr>\n",
       "    <tr>\n",
       "      <th>9446</th>\n",
       "      <td>Laal Singh Chaddha</td>\n",
       "      <td>Aamir Khan, Ahmad Ibn Umar, Kareena Kapoor, Ha...</td>\n",
       "      <td>Advait Chandan</td>\n",
       "      <td>Comedy, Drama, Romance</td>\n",
       "      <td>Laal Singh Chaddha, a simple man whose extraor...</td>\n",
       "      <td>https://m.media-amazon.com/images/M/MV5BMmQ4OT...</td>\n",
       "      <td>https://www.imdb.com/title/tt10028196/?ref_=ad...</td>\n",
       "    </tr>\n",
       "    <tr>\n",
       "      <th>9447</th>\n",
       "      <td>Welcome Home</td>\n",
       "      <td>Kashmira Irani, Swarda Thigale, Shashi Bhushan...</td>\n",
       "      <td>Pushkar Mahabal</td>\n",
       "      <td>Crime, Drama, Horror</td>\n",
       "      <td>A census report leads two female government te...</td>\n",
       "      <td>https://m.media-amazon.com/images/M/MV5BYjMyZj...</td>\n",
       "      <td>https://www.imdb.com/title/tt13381376/?ref_=ad...</td>\n",
       "    </tr>\n",
       "    <tr>\n",
       "      <th>9448</th>\n",
       "      <td>Dangal</td>\n",
       "      <td>Aamir Khan, Sakshi Tanwar, Fatima Sana Shaikh,...</td>\n",
       "      <td>Nitesh Tiwari</td>\n",
       "      <td>Action, Biography, Drama</td>\n",
       "      <td>Former wrestler Mahavir Singh Phogat and his t...</td>\n",
       "      <td>https://m.media-amazon.com/images/M/MV5BMTQ4Mz...</td>\n",
       "      <td>https://www.imdb.com/title/tt5074352/?ref_=adv...</td>\n",
       "    </tr>\n",
       "    <tr>\n",
       "      <th>9449</th>\n",
       "      <td>The White Tiger</td>\n",
       "      <td>Adarsh Gourav, Rajkummar Rao, Priyanka Chopra ...</td>\n",
       "      <td>Ramin Bahrani</td>\n",
       "      <td>Crime, Drama</td>\n",
       "      <td>An ambitious Indian driver uses his wit and cu...</td>\n",
       "      <td>https://m.media-amazon.com/images/M/MV5BMDVkMD...</td>\n",
       "      <td>https://www.imdb.com/title/tt6571548/?ref_=adv...</td>\n",
       "    </tr>\n",
       "  </tbody>\n",
       "</table>\n",
       "<p>9450 rows × 7 columns</p>\n",
       "</div>"
      ],
      "text/plain": [
       "                   title                                              actor  \\\n",
       "0                Selfiee  Akshay Kumar, Nushrratt Bharuccha, Mrunal Thak...   \n",
       "1                Pathaan  Shah Rukh Khan, Deepika Padukone, John Abraham...   \n",
       "2                   Lost  Yami Gautam, Piaa Bajpai, Rohit Basfore, Yoges...   \n",
       "3               3 Idiots   Aamir Khan, Madhavan, Mona Singh, Kareena Kapoor   \n",
       "4       Waltair Veerayya  Chiranjeevi, Ravi Teja, Shruti Haasan, Catheri...   \n",
       "...                  ...                                                ...   \n",
       "9445                  PK  Aamir Khan, Anushka Sharma, Sanjay Dutt, Boman...   \n",
       "9446  Laal Singh Chaddha  Aamir Khan, Ahmad Ibn Umar, Kareena Kapoor, Ha...   \n",
       "9447        Welcome Home  Kashmira Irani, Swarda Thigale, Shashi Bhushan...   \n",
       "9448              Dangal  Aamir Khan, Sakshi Tanwar, Fatima Sana Shaikh,...   \n",
       "9449     The White Tiger  Adarsh Gourav, Rajkummar Rao, Priyanka Chopra ...   \n",
       "\n",
       "                     director                     genre  \\\n",
       "0                   Raj Mehta     Action, Comedy, Drama   \n",
       "1             Siddharth Anand  Action, Adventure, Drama   \n",
       "2     Aniruddha Roy Chowdhury           Drama, Thriller   \n",
       "3             Rajkumar Hirani             Comedy, Drama   \n",
       "4               K.S. Ravindra             Action, Drama   \n",
       "...                       ...                       ...   \n",
       "9445          Rajkumar Hirani     Comedy, Drama, Sci-Fi   \n",
       "9446           Advait Chandan    Comedy, Drama, Romance   \n",
       "9447          Pushkar Mahabal      Crime, Drama, Horror   \n",
       "9448            Nitesh Tiwari  Action, Biography, Drama   \n",
       "9449            Ramin Bahrani              Crime, Drama   \n",
       "\n",
       "                                                   desc  \\\n",
       "0     Bollywood superstar Vijay Kumar needs to obtai...   \n",
       "1     An Indian spy takes on the leader of a group o...   \n",
       "2     An emotional thriller that represents a higher...   \n",
       "3     Two friends are searching for their long lost ...   \n",
       "4     The story between a fisherman and his friend, ...   \n",
       "...                                                 ...   \n",
       "9445  An alien on Earth loses the only device he can...   \n",
       "9446  Laal Singh Chaddha, a simple man whose extraor...   \n",
       "9447  A census report leads two female government te...   \n",
       "9448  Former wrestler Mahavir Singh Phogat and his t...   \n",
       "9449  An ambitious Indian driver uses his wit and cu...   \n",
       "\n",
       "                                                 poster  \\\n",
       "0     https://m.media-amazon.com/images/M/MV5BYTg5Nm...   \n",
       "1     https://m.media-amazon.com/images/M/MV5BM2QzM2...   \n",
       "2     https://m.media-amazon.com/images/M/MV5BMGU3Yz...   \n",
       "3     https://m.media-amazon.com/images/M/MV5BNTkyOG...   \n",
       "4     https://m.media-amazon.com/images/M/MV5BNTE2Zj...   \n",
       "...                                                 ...   \n",
       "9445  https://m.media-amazon.com/images/M/MV5BMTYzOT...   \n",
       "9446  https://m.media-amazon.com/images/M/MV5BMmQ4OT...   \n",
       "9447  https://m.media-amazon.com/images/M/MV5BYjMyZj...   \n",
       "9448  https://m.media-amazon.com/images/M/MV5BMTQ4Mz...   \n",
       "9449  https://m.media-amazon.com/images/M/MV5BMDVkMD...   \n",
       "\n",
       "                                                details  \n",
       "0     https://www.imdb.com/title/tt15516726/?ref_=ad...  \n",
       "1     https://www.imdb.com/title/tt12844910/?ref_=ad...  \n",
       "2     https://www.imdb.com/title/tt15048606/?ref_=ad...  \n",
       "3     https://www.imdb.com/title/tt1187043/?ref_=adv...  \n",
       "4     https://www.imdb.com/title/tt15281402/?ref_=ad...  \n",
       "...                                                 ...  \n",
       "9445  https://www.imdb.com/title/tt2338151/?ref_=adv...  \n",
       "9446  https://www.imdb.com/title/tt10028196/?ref_=ad...  \n",
       "9447  https://www.imdb.com/title/tt13381376/?ref_=ad...  \n",
       "9448  https://www.imdb.com/title/tt5074352/?ref_=adv...  \n",
       "9449  https://www.imdb.com/title/tt6571548/?ref_=adv...  \n",
       "\n",
       "[9450 rows x 7 columns]"
      ]
     },
     "execution_count": 3,
     "metadata": {},
     "output_type": "execute_result"
    }
   ],
   "source": [
    "df"
   ]
  },
  {
   "cell_type": "code",
   "execution_count": 1,
   "id": "1bb52025",
   "metadata": {
    "scrolled": false
   },
   "outputs": [],
   "source": [
    "df.isnull().sum()       #to calculate null value in each column"
   ]
  },
  {
   "cell_type": "code",
   "execution_count": 2,
   "id": "2377ab57",
   "metadata": {},
   "outputs": [],
   "source": [
    "df.duplicated().sum()   #to calculate duplicate value in each column"
   ]
  },
  {
   "cell_type": "code",
   "execution_count": 5,
   "id": "c96b04e1",
   "metadata": {},
   "outputs": [],
   "source": [
    "df.drop_duplicates(keep = 'first',inplace = True)      #to drop duplicate value except first one"
   ]
  },
  {
   "cell_type": "code",
   "execution_count": 6,
   "id": "c66c4bef",
   "metadata": {},
   "outputs": [],
   "source": [
    "def convert(x):                          #to convert series into list\n",
    "    temp = x.replace(',','').split()\n",
    "    return temp"
   ]
  },
  {
   "cell_type": "code",
   "execution_count": 7,
   "id": "71be43ab",
   "metadata": {},
   "outputs": [],
   "source": [
    "def converter(x):                       #to convert series into list\n",
    "    temp = x.split(',')\n",
    "    return temp"
   ]
  },
  {
   "cell_type": "code",
   "execution_count": 47,
   "id": "f91c383f",
   "metadata": {},
   "outputs": [],
   "source": [
    "df                 #to view daatset"
   ]
  },
  {
   "cell_type": "code",
   "execution_count": 8,
   "id": "2a8ce167",
   "metadata": {},
   "outputs": [],
   "source": [
    "df['genre'] = df['genre'].apply(convert)                #applying functions on columns\n",
    "df['actor'] = df['actor'].apply(converter)\n",
    "df['director'] = df['director'].apply(converter)\n",
    "df['desc'] = df['desc'].apply(convert)"
   ]
  },
  {
   "cell_type": "code",
   "execution_count": 9,
   "id": "69d6906c",
   "metadata": {},
   "outputs": [],
   "source": [
    "df['actor'] = df['actor'].apply(lambda x:[i.replace(' ','') for i in x])  #to concatenate first and last word like AkshayKumar\n",
    "df['director'] = df['director'].apply(lambda x:[i.replace(' ','') for i in x])\n",
    "df['genre'] = df['genre'].apply(lambda x:[i.replace(' ','') for i in x])"
   ]
  },
  {
   "cell_type": "code",
   "execution_count": 10,
   "id": "58903ca0",
   "metadata": {},
   "outputs": [],
   "source": [
    "df['tags'] = df['desc'] + df['genre'] + df['actor'] + df['director']   #to make a column tags by combining these columns"
   ]
  },
  {
   "cell_type": "code",
   "execution_count": 3,
   "id": "0fd73aea",
   "metadata": {},
   "outputs": [],
   "source": [
    "df['tags'][15]       #to view tags of movie at specific index(15th index)"
   ]
  },
  {
   "cell_type": "code",
   "execution_count": 20,
   "id": "ffd3da2b",
   "metadata": {},
   "outputs": [],
   "source": [
    "new_df = df[['title','tags','poster','genre','details']]       #to make new DataFrame by taking these columns"
   ]
  },
  {
   "cell_type": "code",
   "execution_count": 22,
   "id": "a66c1b87",
   "metadata": {
    "scrolled": false
   },
   "outputs": [
    {
     "name": "stderr",
     "output_type": "stream",
     "text": [
      "C:\\Users\\ASUS\\AppData\\Local\\Temp/ipykernel_2364/608913419.py:1: SettingWithCopyWarning: \n",
      "A value is trying to be set on a copy of a slice from a DataFrame.\n",
      "Try using .loc[row_indexer,col_indexer] = value instead\n",
      "\n",
      "See the caveats in the documentation: https://pandas.pydata.org/pandas-docs/stable/user_guide/indexing.html#returning-a-view-versus-a-copy\n",
      "  new_df['tags'] = new_df['tags'].apply(lambda x:\" \".join(x)) #to convert values in a single string\n"
     ]
    }
   ],
   "source": [
    "new_df['tags'] = new_df['tags'].apply(lambda x:\" \".join(x)) #to convert values in a single string"
   ]
  },
  {
   "cell_type": "code",
   "execution_count": 4,
   "id": "9140063d",
   "metadata": {},
   "outputs": [],
   "source": [
    "new_df['tags'][0]"
   ]
  },
  {
   "cell_type": "code",
   "execution_count": 24,
   "id": "e63a55b1",
   "metadata": {
    "scrolled": true
   },
   "outputs": [
    {
     "name": "stderr",
     "output_type": "stream",
     "text": [
      "C:\\Users\\ASUS\\AppData\\Local\\Temp/ipykernel_2364/1206982080.py:1: SettingWithCopyWarning: \n",
      "A value is trying to be set on a copy of a slice from a DataFrame.\n",
      "Try using .loc[row_indexer,col_indexer] = value instead\n",
      "\n",
      "See the caveats in the documentation: https://pandas.pydata.org/pandas-docs/stable/user_guide/indexing.html#returning-a-view-versus-a-copy\n",
      "  new_df['tags'] = new_df['tags'].apply(lambda x:x.lower()) #to convert into lowercase\n"
     ]
    }
   ],
   "source": [
    "new_df['tags'] = new_df['tags'].apply(lambda x:x.lower()) #to convert into lowercase"
   ]
  },
  {
   "cell_type": "code",
   "execution_count": 32,
   "id": "fc2e1e3f",
   "metadata": {},
   "outputs": [],
   "source": [
    "from nltk.stem.porter import PorterStemmer       #For stemming similar words\n",
    "ps = PorterStemmer()                             #Ex: love for ['loves','love','loved','loving']\n",
    "\n",
    "def stem(text):\n",
    "    y = []\n",
    "    \n",
    "    for i in text.split():\n",
    "        y.append(ps.stem(i))\n",
    "    return \" \".join(y)"
   ]
  },
  {
   "cell_type": "code",
   "execution_count": 5,
   "id": "07eee667",
   "metadata": {},
   "outputs": [],
   "source": [
    "new_df['tags'][2]      #to view tags of movie at specific index(2nd index)"
   ]
  },
  {
   "cell_type": "code",
   "execution_count": 51,
   "id": "d5fdc141",
   "metadata": {},
   "outputs": [],
   "source": [
    "new_df['tags'] = new_df['tags'].apply(stem)  #applying stem function in tags column"
   ]
  },
  {
   "cell_type": "markdown",
   "id": "79ab119b",
   "metadata": {},
   "source": [
    "# Text vectorization using Bag of words technique"
   ]
  },
  {
   "cell_type": "code",
   "execution_count": 26,
   "id": "c9ee9ec5",
   "metadata": {},
   "outputs": [],
   "source": [
    "from sklearn.feature_extraction.text import CountVectorizer        #vectorizing by taking 5000 most frequent occuring words\n",
    "cv = CountVectorizer(max_features = 5000,stop_words = 'english')\n",
    "\n",
    "#stopwords means to avoid sentence making words of english like is,and,are etc."
   ]
  },
  {
   "cell_type": "code",
   "execution_count": 27,
   "id": "5e07f1d1",
   "metadata": {},
   "outputs": [],
   "source": [
    "vectors = cv.fit_transform(new_df['tags']).toarray()   #to convert into array"
   ]
  },
  {
   "cell_type": "code",
   "execution_count": 6,
   "id": "412bd0a8",
   "metadata": {},
   "outputs": [],
   "source": [
    "cv.get_feature_names()           #to see the 5000 words that were taken for vectorization"
   ]
  },
  {
   "cell_type": "code",
   "execution_count": 41,
   "id": "8d247622",
   "metadata": {},
   "outputs": [],
   "source": [
    "from sklearn.metrics.pairwise import cosine_similarity\n",
    "similarity = cosine_similarity(vectors)         #to find similarity between each movie"
   ]
  },
  {
   "cell_type": "code",
   "execution_count": 7,
   "id": "2195544e",
   "metadata": {},
   "outputs": [],
   "source": [
    "sorted(list(enumerate(similarity[1])),reverse = True,key = lambda x:x[1])[1:6]\n",
    "\n",
    "#enumerate function provide list of tuples which contain movie_index and their similarity with the selected movie\n",
    "#sorted is used to sort the movie in descending order by their similarity and after that 5 movie is fetched"
   ]
  },
  {
   "cell_type": "code",
   "execution_count": 43,
   "id": "7170c81c",
   "metadata": {},
   "outputs": [],
   "source": [
    "def recommend(movie):      #function to recommend movies\n",
    "    movie_index = new_df[new_df['title'] == movie].index[0] \n",
    "    distances = similarity[movie_index]\n",
    "    movies_list = sorted(list(enumerate(distances)),reverse = True,key = lambda x:x[1])[1:6]\n",
    "    \n",
    "    for i in movies_list:\n",
    "        print(new_df.iloc[i[0]].title)"
   ]
  },
  {
   "cell_type": "code",
   "execution_count": 60,
   "id": "358856fe",
   "metadata": {},
   "outputs": [
    {
     "name": "stdout",
     "output_type": "stream",
     "text": [
      "Golmaal: Fun Unlimited\n",
      "Sunday\n",
      "Golmaal 5\n",
      "The last drive\n",
      "Golmaal Returns\n"
     ]
    }
   ],
   "source": [
    "recommend(\"Golmaal Again\") #to call recommend function"
   ]
  },
  {
   "cell_type": "code",
   "execution_count": 48,
   "id": "f1aaf0f2",
   "metadata": {},
   "outputs": [],
   "source": [
    "import pickle"
   ]
  },
  {
   "cell_type": "code",
   "execution_count": 49,
   "id": "82fcef8e",
   "metadata": {},
   "outputs": [],
   "source": [
    "pickle.dump(new_df.to_dict(),open('movies.pkl','wb'))"
   ]
  },
  {
   "cell_type": "code",
   "execution_count": 50,
   "id": "2d769fa1",
   "metadata": {},
   "outputs": [],
   "source": [
    "pickle.dump(similarity,open('similarity.pkl','wb'))"
   ]
  }
 ],
 "metadata": {
  "kernelspec": {
   "display_name": "Python 3 (ipykernel)",
   "language": "python",
   "name": "python3"
  },
  "language_info": {
   "codemirror_mode": {
    "name": "ipython",
    "version": 3
   },
   "file_extension": ".py",
   "mimetype": "text/x-python",
   "name": "python",
   "nbconvert_exporter": "python",
   "pygments_lexer": "ipython3",
   "version": "3.9.7"
  }
 },
 "nbformat": 4,
 "nbformat_minor": 5
}
