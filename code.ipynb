{
 "cells": [
  {
   "cell_type": "code",
   "execution_count": 18,
   "id": "5e461d72",
   "metadata": {},
   "outputs": [],
   "source": [
    "import pandas as pd\n",
    "import numpy as np"
   ]
  },
  {
   "cell_type": "code",
   "execution_count": 19,
   "id": "598cf47d",
   "metadata": {},
   "outputs": [],
   "source": [
    "df = pd.read_csv('movie5.csv')"
   ]
  },
  {
   "cell_type": "code",
   "execution_count": 1,
   "id": "1bb52025",
   "metadata": {
    "scrolled": false
   },
   "outputs": [],
   "source": [
    "df.isnull().sum()"
   ]
  },
  {
   "cell_type": "code",
   "execution_count": 4,
   "id": "2377ab57",
   "metadata": {},
   "outputs": [],
   "source": [
    "df.duplicated().sum()"
   ]
  },
  {
   "cell_type": "code",
   "execution_count": 22,
   "id": "c96b04e1",
   "metadata": {},
   "outputs": [],
   "source": [
    "df.drop_duplicates(keep = 'first',inplace = True)"
   ]
  },
  {
   "cell_type": "code",
   "execution_count": 24,
   "id": "c66c4bef",
   "metadata": {},
   "outputs": [],
   "source": [
    "def convert(x):\n",
    "    temp = x.replace(',','').split()\n",
    "    return temp"
   ]
  },
  {
   "cell_type": "code",
   "execution_count": 25,
   "id": "71be43ab",
   "metadata": {},
   "outputs": [],
   "source": [
    "def converter(x):\n",
    "    temp = x.split(',')\n",
    "    return temp"
   ]
  },
  {
   "cell_type": "code",
   "execution_count": 26,
   "id": "2a8ce167",
   "metadata": {},
   "outputs": [],
   "source": [
    "df['genre'] = df['genre'].apply(convert)\n",
    "df['actor'] = df['actor'].apply(converter)\n",
    "df['director'] = df['director'].apply(converter)\n",
    "df['desc'] = df['desc'].apply(convert)"
   ]
  },
  {
   "cell_type": "code",
   "execution_count": 27,
   "id": "69d6906c",
   "metadata": {},
   "outputs": [],
   "source": [
    "df['actor'] = df['actor'].apply(lambda x:[i.replace(' ','') for i in x])\n",
    "df['director'] = df['director'].apply(lambda x:[i.replace(' ','') for i in x])\n",
    "df['genre'] = df['genre'].apply(lambda x:[i.replace(' ','') for i in x])"
   ]
  },
  {
   "cell_type": "code",
   "execution_count": 29,
   "id": "58903ca0",
   "metadata": {},
   "outputs": [],
   "source": [
    "df['tags'] = df['desc'] + df['genre'] + df['actor'] + df['director']"
   ]
  },
  {
   "cell_type": "code",
   "execution_count": 30,
   "id": "ffd3da2b",
   "metadata": {},
   "outputs": [],
   "source": [
    "new_df = df[['title','tags','poster','genre','details']]"
   ]
  },
  {
   "cell_type": "code",
   "execution_count": 2,
   "id": "a66c1b87",
   "metadata": {},
   "outputs": [],
   "source": [
    "new_df['tags'] = new_df['tags'].apply(lambda x:\" \".join(x))"
   ]
  },
  {
   "cell_type": "code",
   "execution_count": 3,
   "id": "e63a55b1",
   "metadata": {
    "scrolled": true
   },
   "outputs": [],
   "source": [
    "new_df['tags'] = new_df['tags'].apply(lambda x:x.lower())"
   ]
  },
  {
   "cell_type": "code",
   "execution_count": 35,
   "id": "fc2e1e3f",
   "metadata": {},
   "outputs": [],
   "source": [
    "from nltk.stem.porter import PorterStemmer\n",
    "ps = PorterStemmer()\n",
    "\n",
    "def stem(text):\n",
    "    y = []\n",
    "    \n",
    "    for i in text.split():\n",
    "        y.append(ps.stem(i))\n",
    "    return \" \".join(y)"
   ]
  },
  {
   "cell_type": "code",
   "execution_count": 34,
   "id": "07eee667",
   "metadata": {},
   "outputs": [
    {
     "data": {
      "text/plain": [
       "'an emotional thriller that represents a higher quest a search for lost values of empathy and integrity. drama thriller yamigautam piaabajpai rohitbasfore yogeshbhardwaj aniruddharoychowdhury'"
      ]
     },
     "execution_count": 34,
     "metadata": {},
     "output_type": "execute_result"
    }
   ],
   "source": [
    "new_df['tags'][2]"
   ]
  },
  {
   "cell_type": "code",
   "execution_count": 5,
   "id": "d5fdc141",
   "metadata": {},
   "outputs": [],
   "source": [
    "new_df['tags'] = new_df['tags'].apply(stem)"
   ]
  },
  {
   "cell_type": "code",
   "execution_count": 37,
   "id": "c9ee9ec5",
   "metadata": {},
   "outputs": [],
   "source": [
    "from sklearn.feature_extraction.text import CountVectorizer\n",
    "cv = CountVectorizer(max_features = 5000,stop_words = 'english')"
   ]
  },
  {
   "cell_type": "code",
   "execution_count": 38,
   "id": "5e07f1d1",
   "metadata": {},
   "outputs": [],
   "source": [
    "vectors = cv.fit_transform(new_df['tags']).toarray()"
   ]
  },
  {
   "cell_type": "code",
   "execution_count": 40,
   "id": "412bd0a8",
   "metadata": {},
   "outputs": [],
   "source": [
    "cv.get_feature_names()"
   ]
  },
  {
   "cell_type": "code",
   "execution_count": 41,
   "id": "8d247622",
   "metadata": {},
   "outputs": [],
   "source": [
    "from sklearn.metrics.pairwise import cosine_similarity\n",
    "similarity = cosine_similarity(vectors)"
   ]
  },
  {
   "cell_type": "code",
   "execution_count": 45,
   "id": "2195544e",
   "metadata": {},
   "outputs": [],
   "source": [
    "sorted(list(enumerate(similarity[1000])),reverse = True,key = lambda x:x[1])[1:6]"
   ]
  },
  {
   "cell_type": "code",
   "execution_count": 43,
   "id": "7170c81c",
   "metadata": {},
   "outputs": [],
   "source": [
    "def recommend(movie):\n",
    "    movie_index = new_df[new_df['title'] == movie].index[0]\n",
    "    distances = similarity[movie_index]\n",
    "    movies_list = sorted(list(enumerate(distances)),reverse = True,key = lambda x:x[1])[1:6]\n",
    "    \n",
    "    for i in movies_list:\n",
    "        print(new_df.iloc[i[0]].title)"
   ]
  },
  {
   "cell_type": "code",
   "execution_count": 6,
   "id": "358856fe",
   "metadata": {},
   "outputs": [],
   "source": [
    "recommend('Selfiee')"
   ]
  },
  {
   "cell_type": "code",
   "execution_count": 48,
   "id": "f1aaf0f2",
   "metadata": {},
   "outputs": [],
   "source": [
    "import pickle"
   ]
  },
  {
   "cell_type": "code",
   "execution_count": 49,
   "id": "82fcef8e",
   "metadata": {},
   "outputs": [],
   "source": [
    "pickle.dump(new_df.to_dict(),open('movies.pkl','wb'))"
   ]
  },
  {
   "cell_type": "code",
   "execution_count": 50,
   "id": "2d769fa1",
   "metadata": {},
   "outputs": [],
   "source": [
    "pickle.dump(similarity,open('similarity.pkl','wb'))"
   ]
  },
  {
   "cell_type": "code",
   "execution_count": 52,
   "id": "2b9d850b",
   "metadata": {},
   "outputs": [
    {
     "data": {
      "text/plain": [
       "str"
      ]
     },
     "execution_count": 52,
     "metadata": {},
     "output_type": "execute_result"
    }
   ],
   "source": [
    "type(new_df['details'].iloc[0])"
   ]
  }
 ],
 "metadata": {
  "kernelspec": {
   "display_name": "Python 3 (ipykernel)",
   "language": "python",
   "name": "python3"
  },
  "language_info": {
   "codemirror_mode": {
    "name": "ipython",
    "version": 3
   },
   "file_extension": ".py",
   "mimetype": "text/x-python",
   "name": "python",
   "nbconvert_exporter": "python",
   "pygments_lexer": "ipython3",
   "version": "3.9.7"
  }
 },
 "nbformat": 4,
 "nbformat_minor": 5
}
